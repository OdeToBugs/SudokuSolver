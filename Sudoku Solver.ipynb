{
 "cells": [
  {
   "cell_type": "markdown",
   "id": "altered-defense",
   "metadata": {},
   "source": [
    "# Pick a Sudoku Puzzle"
   ]
  },
  {
   "cell_type": "markdown",
   "id": "adequate-filling",
   "metadata": {},
   "source": [
    "## Load Sudoku Webpage"
   ]
  },
  {
   "cell_type": "code",
   "execution_count": 1,
   "id": "identical-edgar",
   "metadata": {},
   "outputs": [],
   "source": [
    "import requests \n",
    "from bs4 import BeautifulSoup\n",
    "\n",
    "vgm_url = 'http://lipas.uwasa.fi/~timan/sudoku/'\n",
    "html_text = requests.get(vgm_url).text\n",
    "soup = BeautifulSoup(html_text, 'html.parser')"
   ]
  },
  {
   "cell_type": "markdown",
   "id": "casual-edgar",
   "metadata": {},
   "source": [
    "## Pick a Level"
   ]
  },
  {
   "cell_type": "code",
   "execution_count": 77,
   "id": "ahead-enforcement",
   "metadata": {},
   "outputs": [
    {
     "name": "stdout",
     "output_type": "stream",
     "text": [
      "Pick a level from 1 to 15: 5\n",
      "Pick a puzzle; a, b, or c: a\n",
      "s05a.txt\n"
     ]
    }
   ],
   "source": [
    "lvl = input('Pick a level from 1 to 15: ')\n",
    "pzl = input('Pick a puzzle; a, b, or c: ')\n",
    "pzFile = 's' + str(lvl).zfill(2) + pzl + '.txt'\n",
    "print(pzFile)"
   ]
  },
  {
   "cell_type": "markdown",
   "id": "blond-terror",
   "metadata": {},
   "source": [
    "## Parse Webpage"
   ]
  },
  {
   "cell_type": "markdown",
   "id": "hundred-wheel",
   "metadata": {},
   "source": [
    "### Get link for .txt file"
   ]
  },
  {
   "cell_type": "code",
   "execution_count": 78,
   "id": "declared-slovenia",
   "metadata": {},
   "outputs": [
    {
     "name": "stdout",
     "output_type": "stream",
     "text": [
      "http://lipas.uwasa.fi/~timan/sudoku//s05a.txt\n"
     ]
    }
   ],
   "source": [
    "for tx in soup.find_all('a'):\n",
    "#     print(tx)\n",
    "#     print(tx.string)\n",
    "    if tx.string == pzFile:\n",
    "        lnk = vgm_url+\"/\"+tx['href']\n",
    "        print(lnk)\n",
    "        \n",
    "#     print('---------------------')"
   ]
  },
  {
   "cell_type": "markdown",
   "id": "spectacular-cleveland",
   "metadata": {},
   "source": [
    "### Read data from .txt file"
   ]
  },
  {
   "cell_type": "code",
   "execution_count": 79,
   "id": "indirect-recommendation",
   "metadata": {},
   "outputs": [
    {
     "name": "stdout",
     "output_type": "stream",
     "text": [
      "[[1, 0, 5, 0, 0, 0, 3, 7, 0], [0, 0, 0, 0, 0, 0, 2, 0, 0], [0, 9, 7, 3, 0, 0, 0, 1, 0], [0, 0, 0, 0, 5, 3, 1, 0, 2], [3, 0, 0, 8, 0, 1, 0, 0, 4], [2, 0, 1, 4, 7, 0, 0, 0, 0], [0, 7, 0, 0, 0, 8, 6, 4, 0], [0, 0, 8, 0, 0, 0, 0, 0, 0], [0, 1, 2, 0, 0, 0, 8, 0, 7]]\n",
      "     0    1    2    3    4    5    6    7    8\n",
      "0  1.0  0.0  5.0  0.0  0.0  0.0  3.0  7.0  0.0\n",
      "1  0.0  0.0  0.0  0.0  0.0  0.0  2.0  0.0  0.0\n",
      "2  0.0  9.0  7.0  3.0  0.0  0.0  0.0  1.0  0.0\n",
      "3  0.0  0.0  0.0  0.0  5.0  3.0  1.0  0.0  2.0\n",
      "4  3.0  0.0  0.0  8.0  0.0  1.0  0.0  0.0  4.0\n",
      "5  2.0  0.0  1.0  4.0  7.0  0.0  0.0  0.0  0.0\n",
      "6  0.0  7.0  0.0  0.0  0.0  8.0  6.0  4.0  0.0\n",
      "7  0.0  0.0  8.0  0.0  0.0  0.0  0.0  0.0  0.0\n",
      "8  0.0  1.0  2.0  0.0  0.0  0.0  8.0  0.0  7.0\n"
     ]
    }
   ],
   "source": [
    "import urllib\n",
    "import pandas as pd\n",
    "\n",
    "f = urllib.request.urlopen(lnk)\n",
    "myfile = f.readlines()\n",
    "sdk = []\n",
    "#print(myfile)\n",
    "\n",
    "for i, line in enumerate(myfile):\n",
    "    sdk.append([])\n",
    "    for j, value in enumerate(line.split()):\n",
    "        sdk[i].append(int(value))\n",
    "\n",
    "df = pd.DataFrame(sdk)\n",
    "if len(sdk) == 10:\n",
    "    df.drop([9], inplace=True)\n",
    "    del sdk[9]\n",
    "    \n",
    "print(sdk)\n",
    "print(df)"
   ]
  },
  {
   "cell_type": "markdown",
   "id": "japanese-bermuda",
   "metadata": {},
   "source": [
    "# Solve the Puzzle"
   ]
  },
  {
   "cell_type": "markdown",
   "id": "permanent-memorabilia",
   "metadata": {},
   "source": [
    "## Get available numbers for each cell"
   ]
  },
  {
   "cell_type": "code",
   "execution_count": 5,
   "id": "polished-camping",
   "metadata": {},
   "outputs": [],
   "source": [
    "import math\n",
    "\n",
    "def getAvailable(sudoku):\n",
    "    rows = [[0 for i in range(9)] for j in range(9)] \n",
    "    cols = [[0 for i in range(9)] for j in range(9)] \n",
    "    sqrs = [[0 for i in range(9)] for j in range(9)] \n",
    "\n",
    "    for i in range(9):\n",
    "        for j in range(9):\n",
    "            sqNum = math.floor(i/3.0)*3 + math.floor(j/3.0)\n",
    "            if sudoku[i][j] > 0:\n",
    "                rows[i][sudoku[i][j]-1] += 1\n",
    "                cols[j][sudoku[i][j]-1] += 1\n",
    "                sqrs[sqNum][sudoku[i][j]-1] += 1\n",
    "                \n",
    "    cellOpt = [[0 for i in range(9)] for j in range(9*9)] \n",
    "    for i in range(9*9):\n",
    "        rw = math.floor(i/9.0)\n",
    "        cl = int(i%9.0)\n",
    "        sqNum = math.floor(rw/3.0)*3 + math.floor(cl/3.0)\n",
    "    #     print(str(rw) + \" \" + str(cl) + \" \" + str(sqNum) + \" \" + str(i) + \" \" + str(j))    \n",
    "        for j in range(9):\n",
    "    #         print(\"i:\" + str(i) + \" j:\" + str(j) + \" \" + str(rows[rw][j]) + \" \" + str(rows[cl][j]) + \" \" + str(sqrs[sqNum][j]))\n",
    "            if rows[rw][j] + cols[cl][j] + sqrs[sqNum][j] == 0 and sudoku[rw][cl] == 0:\n",
    "                cellOpt[i][j] = 1\n",
    "#     print(np.matrix(cellOpt))\n",
    "    return cellOpt, rows, cols, sqrs"
   ]
  },
  {
   "cell_type": "markdown",
   "id": "growing-upset",
   "metadata": {},
   "source": [
    "## Solve the puzzle"
   ]
  },
  {
   "cell_type": "code",
   "execution_count": 95,
   "id": "congressional-sister",
   "metadata": {},
   "outputs": [],
   "source": [
    "import numpy as np\n",
    "import copy\n",
    "import time\n",
    "\n",
    "def solve(sudoku, recLevel=0, outputFormat='none'):\n",
    "    sud = copy.deepcopy(sudoku)\n",
    "    solved = 0\n",
    "    clFound = 1\n",
    "    if outputFormat == 'verbose': print('Recursion Level %d' % (recLevel))\n",
    "    if outputFormat == 'minimal': \n",
    "        print('Recursion Level %d                                           ' % (recLevel), end='\\r')\n",
    "        time.sleep(0.5)\n",
    "    # Find explicit solutions\n",
    "    while clFound == 1:\n",
    "        clFound = 0 \n",
    "        cellAvail, rows, cols, sqrs = getAvailable(sud)\n",
    "        for i in range(9*9):\n",
    "            if np.sum(cellAvail[i]) == 1:\n",
    "                rw = math.floor(i/9.0)\n",
    "                cl = int(i%9.0)\n",
    "                sqNum = math.floor(rw/3.0)*3 + math.floor(cl/3.0)\n",
    "                l='Row Options:    '\n",
    "                m='Column Options: '\n",
    "                n='Square Options: '\n",
    "                for a in rows[rw]:\n",
    "                    l += str(a) + ' '\n",
    "                if outputFormat == 'verbose': print(l)\n",
    "\n",
    "                for b in cols[cl]:\n",
    "                    m += str(b) + ' '\n",
    "                if outputFormat == 'verbose': print(m)\n",
    "\n",
    "                for c in sqrs[sqNum]:\n",
    "                    n += str(c) + ' '\n",
    "                if outputFormat == 'verbose': print(n)\n",
    "\n",
    "                if outputFormat == 'verbose': \n",
    "                    print(\"row: %d  column: %d\" % (rw,cl))\n",
    "                    print(\"available \" + str(cellAvail[i]))\n",
    "                    print(\"Number is %d\" % (cellAvail[i].index(1) + 1))\n",
    "                sud[rw][cl] = cellAvail[i].index(1) + 1\n",
    "                clFound = 1\n",
    "    \n",
    "    if outputFormat == 'verbose': \n",
    "        print('Implicit Solution at Recursion Level %d' % (recLevel))\n",
    "        print(printSudoku(sud))\n",
    "    \n",
    "    cellAvail, rows, cols, sqrs = getAvailable(sud)\n",
    "    numAvail = [max(x, y, z) for x, y, z in zip(rows, cols, sqrs)]\n",
    "    if any(v > 1 for ln in numAvail for v in ln):\n",
    "        solved = 0\n",
    "        if outputFormat == 'verbose': print('not solved, exit at line 41')\n",
    "        return solved, sud, recLevel\n",
    "        \n",
    "    # Check if puzzle is solved\n",
    "    if not any(0 in ln for ln in sud):\n",
    "        solved = 1\n",
    "        if outputFormat == 'verbose': print(\"Solved at line 45\")\n",
    "        return solved, sud, recLevel\n",
    "    \n",
    "    # Test implicit solutions\n",
    "    for i in range(9*9):\n",
    "        if np.sum(cellAvail[i]) > 0:\n",
    "            for j in range(9):\n",
    "                if cellAvail[i][j] == 1:\n",
    "                    rw = math.floor(i/9.0)\n",
    "                    cl = int(i%9.0)\n",
    "                    tsol = copy.deepcopy(sud)\n",
    "                    if outputFormat == 'verbose': print('Testing value %d in location (%d, %d)' % (j+1, rw, cl))\n",
    "                    if outputFormat == 'minimal': \n",
    "                        print('Recursion Level %d - Testing value %d in location (%d, %d)' % (recLevel, j+1, rw, cl), end='\\r') \n",
    "                        time.sleep(0.5)\n",
    "                    tsol[rw][cl] = j + 1\n",
    "                    recLevel += 1\n",
    "                    solved, tsol, recLevel = solve(tsol, recLevel, outputFormat)\n",
    "                    if outputFormat == 'minimal': \n",
    "                        print('Recursion Level %d                                           ' % (recLevel), end='\\r')\n",
    "                        time.sleep(0.5)\n",
    "                    recLevel -= 1\n",
    "                    if solved == 1: \n",
    "                        if outputFormat == 'verbose': print(\"Solved at line 62\")\n",
    "                        sud = copy.deepcopy(tsol)\n",
    "                        return solved, sud, recLevel\n",
    "    \n",
    "    \n",
    "    if not any(0 in ln for ln in sud) or solved == 1:\n",
    "        solved = 1\n",
    "        if outputFormat == 'verbose': print(\"Solved at line 69\")\n",
    "        return solved, sud, recLevel\n",
    "    else:\n",
    "        if outputFormat == 'verbose': print(\"not solved, exit at line 72\")\n",
    "        solved = 0\n",
    "        return solved, sud, recLevel"
   ]
  },
  {
   "cell_type": "code",
   "execution_count": 96,
   "id": "smaller-alabama",
   "metadata": {},
   "outputs": [
    {
     "name": "stdout",
     "output_type": "stream",
     "text": [
      "Recursion Level 1                                           \r"
     ]
    }
   ],
   "source": [
    "svld, sol, recL = solve(sdk,outputFormat='minimal')"
   ]
  },
  {
   "cell_type": "markdown",
   "id": "stone-cornell",
   "metadata": {},
   "source": [
    "# Print Solution"
   ]
  },
  {
   "cell_type": "code",
   "execution_count": 45,
   "id": "excited-orchestra",
   "metadata": {},
   "outputs": [],
   "source": [
    "def printSudoku(sud):\n",
    "    df = pd.DataFrame(sud)\n",
    "    df.insert(0,9,['|']*9)\n",
    "    df.insert(10,10,['|']*9)\n",
    "    df.insert(4,11,['|']*9)\n",
    "    df.insert(8,12,['|']*9)\n",
    "\n",
    "    df.columns = range(df.shape[1])\n",
    "    df.reset_index()\n",
    "    df1 = pd.DataFrame([['-']*13])\n",
    "    sudFormat = pd.concat([df1, df[0:3], df1, df[3:6], df1, df[6:9], df1])\n",
    "\n",
    "    return sudFormat"
   ]
  },
  {
   "cell_type": "code",
   "execution_count": 76,
   "id": "olive-reach",
   "metadata": {},
   "outputs": [
    {
     "name": "stdout",
     "output_type": "stream",
     "text": [
      "  0  1  2  3  4  5  6  7  8  9  10 11 12\n",
      "0  -  -  -  -  -  -  -  -  -  -  -  -  -\n",
      "0  |  1  2  5  |  6  4  9  |  3  7  8  |\n",
      "1  |  8  3  4  |  7  1  5  |  2  9  6  |\n",
      "2  |  6  9  7  |  3  8  2  |  4  1  5  |\n",
      "0  -  -  -  -  -  -  -  -  -  -  -  -  -\n",
      "3  |  7  4  6  |  9  5  3  |  1  8  2  |\n",
      "4  |  3  5  9  |  8  2  1  |  7  6  4  |\n",
      "5  |  2  8  1  |  4  7  6  |  9  5  3  |\n",
      "0  -  -  -  -  -  -  -  -  -  -  -  -  -\n",
      "6  |  5  7  3  |  2  9  8  |  6  4  1  |\n",
      "7  |  4  6  8  |  1  3  7  |  5  2  9  |\n",
      "8  |  9  1  2  |  5  6  4  |  8  3  7  |\n",
      "0  -  -  -  -  -  -  -  -  -  -  -  -  -\n"
     ]
    }
   ],
   "source": [
    "print(printSudoku(sol))"
   ]
  }
 ],
 "metadata": {
  "kernelspec": {
   "display_name": "Python 3",
   "language": "python",
   "name": "python3"
  },
  "language_info": {
   "codemirror_mode": {
    "name": "ipython",
    "version": 3
   },
   "file_extension": ".py",
   "mimetype": "text/x-python",
   "name": "python",
   "nbconvert_exporter": "python",
   "pygments_lexer": "ipython3",
   "version": "3.8.5"
  },
  "toc": {
   "base_numbering": 1,
   "nav_menu": {},
   "number_sections": true,
   "sideBar": true,
   "skip_h1_title": false,
   "title_cell": "Table of Contents",
   "title_sidebar": "Contents",
   "toc_cell": false,
   "toc_position": {},
   "toc_section_display": true,
   "toc_window_display": true
  }
 },
 "nbformat": 4,
 "nbformat_minor": 5
}
